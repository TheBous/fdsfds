{
 "cells": [
  {
   "cell_type": "code",
   "execution_count": 99,
   "metadata": {},
   "outputs": [
    {
     "name": "stdout",
     "output_type": "stream",
     "text": [
      "Requirement already satisfied: neurokit2 in ./myenv/lib/python3.9/site-packages (0.2.4)\n",
      "Requirement already satisfied: scikit-learn>=1.0.0 in ./myenv/lib/python3.9/site-packages (from neurokit2) (1.2.2)\n",
      "Requirement already satisfied: scipy in ./myenv/lib/python3.9/site-packages (from neurokit2) (1.10.1)\n",
      "Requirement already satisfied: numpy in ./myenv/lib/python3.9/site-packages (from neurokit2) (1.24.3)\n",
      "Requirement already satisfied: matplotlib in ./myenv/lib/python3.9/site-packages (from neurokit2) (3.7.1)\n",
      "Requirement already satisfied: pandas in ./myenv/lib/python3.9/site-packages (from neurokit2) (2.0.1)\n",
      "Requirement already satisfied: joblib>=1.1.1 in ./myenv/lib/python3.9/site-packages (from scikit-learn>=1.0.0->neurokit2) (1.2.0)\n",
      "Requirement already satisfied: threadpoolctl>=2.0.0 in ./myenv/lib/python3.9/site-packages (from scikit-learn>=1.0.0->neurokit2) (3.1.0)\n",
      "Requirement already satisfied: cycler>=0.10 in ./myenv/lib/python3.9/site-packages (from matplotlib->neurokit2) (0.11.0)\n",
      "Requirement already satisfied: pillow>=6.2.0 in ./myenv/lib/python3.9/site-packages (from matplotlib->neurokit2) (9.5.0)\n",
      "Requirement already satisfied: contourpy>=1.0.1 in ./myenv/lib/python3.9/site-packages (from matplotlib->neurokit2) (1.0.7)\n",
      "Requirement already satisfied: pyparsing>=2.3.1 in ./myenv/lib/python3.9/site-packages (from matplotlib->neurokit2) (3.0.9)\n",
      "Requirement already satisfied: python-dateutil>=2.7 in ./myenv/lib/python3.9/site-packages (from matplotlib->neurokit2) (2.8.2)\n",
      "Requirement already satisfied: kiwisolver>=1.0.1 in ./myenv/lib/python3.9/site-packages (from matplotlib->neurokit2) (1.4.4)\n",
      "Requirement already satisfied: packaging>=20.0 in ./myenv/lib/python3.9/site-packages (from matplotlib->neurokit2) (23.1)\n",
      "Requirement already satisfied: fonttools>=4.22.0 in ./myenv/lib/python3.9/site-packages (from matplotlib->neurokit2) (4.39.3)\n",
      "Requirement already satisfied: importlib-resources>=3.2.0 in ./myenv/lib/python3.9/site-packages (from matplotlib->neurokit2) (5.12.0)\n",
      "Requirement already satisfied: zipp>=3.1.0 in ./myenv/lib/python3.9/site-packages (from importlib-resources>=3.2.0->matplotlib->neurokit2) (3.15.0)\n",
      "Requirement already satisfied: six>=1.5 in ./myenv/lib/python3.9/site-packages (from python-dateutil>=2.7->matplotlib->neurokit2) (1.16.0)\n",
      "Requirement already satisfied: pytz>=2020.1 in ./myenv/lib/python3.9/site-packages (from pandas->neurokit2) (2023.3)\n",
      "Requirement already satisfied: tzdata>=2022.1 in ./myenv/lib/python3.9/site-packages (from pandas->neurokit2) (2023.3)\n",
      "\u001b[33mWARNING: You are using pip version 21.2.4; however, version 23.1.2 is available.\n",
      "You should consider upgrading via the '/Users/lucavalsecchi/Work/pyheart/myenv/bin/python -m pip install --upgrade pip' command.\u001b[0m\n",
      "Note: you may need to restart the kernel to use updated packages.\n"
     ]
    }
   ],
   "source": [
    "%pip install neurokit2"
   ]
  },
  {
   "cell_type": "code",
   "execution_count": 100,
   "metadata": {},
   "outputs": [
    {
     "name": "stderr",
     "output_type": "stream",
     "text": [
      "/Users/lucavalsecchi/Work/pyheart/myenv/lib/python3.9/site-packages/numpy/core/fromnumeric.py:3464: RuntimeWarning: Mean of empty slice.\n",
      "  return _methods._mean(a, axis=axis, dtype=dtype,\n",
      "/Users/lucavalsecchi/Work/pyheart/myenv/lib/python3.9/site-packages/numpy/core/_methods.py:192: RuntimeWarning: invalid value encountered in scalar divide\n",
      "  ret = ret.dtype.type(ret / rcount)\n",
      "/Users/lucavalsecchi/Work/pyheart/myenv/lib/python3.9/site-packages/numpy/core/fromnumeric.py:3464: RuntimeWarning: Mean of empty slice.\n",
      "  return _methods._mean(a, axis=axis, dtype=dtype,\n",
      "/Users/lucavalsecchi/Work/pyheart/myenv/lib/python3.9/site-packages/numpy/core/_methods.py:192: RuntimeWarning: invalid value encountered in scalar divide\n",
      "  ret = ret.dtype.type(ret / rcount)\n",
      "/Users/lucavalsecchi/Work/pyheart/myenv/lib/python3.9/site-packages/numpy/core/fromnumeric.py:3464: RuntimeWarning: Mean of empty slice.\n",
      "  return _methods._mean(a, axis=axis, dtype=dtype,\n",
      "/Users/lucavalsecchi/Work/pyheart/myenv/lib/python3.9/site-packages/numpy/core/_methods.py:192: RuntimeWarning: invalid value encountered in scalar divide\n",
      "  ret = ret.dtype.type(ret / rcount)\n",
      "/Users/lucavalsecchi/Work/pyheart/myenv/lib/python3.9/site-packages/numpy/core/fromnumeric.py:3464: RuntimeWarning: Mean of empty slice.\n",
      "  return _methods._mean(a, axis=axis, dtype=dtype,\n",
      "/Users/lucavalsecchi/Work/pyheart/myenv/lib/python3.9/site-packages/numpy/core/_methods.py:192: RuntimeWarning: invalid value encountered in scalar divide\n",
      "  ret = ret.dtype.type(ret / rcount)\n"
     ]
    }
   ],
   "source": [
    "import json\n",
    "import neurokit2 as nk\n",
    "from matplotlib import pyplot as plt\n",
    "import pandas as pd\n",
    "import numpy as np\n",
    "from datetime import datetime, timedelta\n",
    "\n",
    "with open('./fake.json', 'r') as json_file:\n",
    "    data = json.load(json_file)\n",
    "\n",
    "data_key = data['data']    \n",
    "\n",
    "array_flatten = []\n",
    "\n",
    "for obj in data_key:\n",
    "    misurazioni = obj[\"ecg\"][\"Samples\"]\n",
    "    array_flatten.extend(misurazioni)\n",
    "    \n",
    "signals, info = nk.ecg_process(array_flatten[:100000], sampling_rate=125)\n",
    "# nk.ecg_plot(signals, sampling_rate=125)\n",
    "bpms = signals[\"ECG_Rate\"]\n",
    "# print(bpms)\n",
    "\n",
    "# rr = (60 * 1000) / bpms\n",
    "# dates = []\n",
    "# data_precedente = datetime.now()\n",
    "# for millisecondo in rr:\n",
    "#     data_con_millisecondi = data_precedente + timedelta(milliseconds=millisecondo)\n",
    "#     dates.append(data_con_millisecondi)\n",
    "#     data_precedente = data_con_millisecondi\n",
    "\n",
    "\n",
    "# # Creazione del grafico\n",
    "# fig, ax = plt.subplots()\n",
    "# ax.plot(dates, bpms)\n",
    "\n",
    "# # Formattazione dell'asse x con le date\n",
    "# date_fmt = '%H:%M:%S'\n",
    "# date_formatter = plt.FixedFormatter([date.strftime(date_fmt) for date in dates])\n",
    "# ax.xaxis.set_major_formatter(date_formatter)\n",
    "# plt.xticks(rotation=45)\n",
    "\n",
    "# # Etichette degli assi e titolo del grafico\n",
    "# ax.set_xlabel('Tempo')\n",
    "# ax.set_ylabel('BPM')\n",
    "# ax.set_title('Grafico BPM con date')\n",
    "\n",
    "# plt.show()\n",
    "\n",
    "\n",
    "\n",
    "\n",
    "rrIntervals = (60 * 1000) / bpms\n",
    "\n",
    "chunk = 100000\n",
    "subarrays = [array_flatten[i:i+chunk] for i in range(0, len(array_flatten), chunk)]\n",
    "for subarray in subarrays:\n",
    "    signals, info = nk.ecg_process(subarray, sampling_rate=125)\n",
    "    nk.ecg_plot(signals, sampling_rate=125)"
   ]
  },
  {
   "cell_type": "code",
   "execution_count": null,
   "metadata": {},
   "outputs": [],
   "source": []
  }
 ],
 "metadata": {
  "kernelspec": {
   "display_name": "myenv",
   "language": "python",
   "name": "python3"
  },
  "language_info": {
   "codemirror_mode": {
    "name": "ipython",
    "version": 3
   },
   "file_extension": ".py",
   "mimetype": "text/x-python",
   "name": "python",
   "nbconvert_exporter": "python",
   "pygments_lexer": "ipython3",
   "version": "3.9.6"
  },
  "orig_nbformat": 4
 },
 "nbformat": 4,
 "nbformat_minor": 2
}
